{
  "nbformat": 4,
  "nbformat_minor": 0,
  "metadata": {
    "colab": {
      "provenance": []
    },
    "kernelspec": {
      "name": "python3",
      "display_name": "Python 3"
    },
    "language_info": {
      "name": "python"
    }
  },
  "cells": [
    {
      "cell_type": "markdown",
      "source": [
        "<p> Image link: https://drive.google.com/file/d/1wyknlk0JY6dOtcGZNrvOfz5pJKJmTsb2/view?usp=sharing"
      ],
      "metadata": {
        "id": "YJPvwGtz_6Ar"
      }
    },
    {
      "cell_type": "markdown",
      "source": [
        "## Gaussian Filter"
      ],
      "metadata": {
        "id": "b0LjKuRQ-8kn"
      }
    },
    {
      "cell_type": "code",
      "execution_count": null,
      "metadata": {
        "colab": {
          "base_uri": "https://localhost:8080/"
        },
        "id": "Y6wF2za2-7yp",
        "outputId": "0c56bf62-6476-4bcc-b465-57e7f522ac33"
      },
      "outputs": [
        {
          "output_type": "execute_result",
          "data": {
            "text/plain": [
              "True"
            ]
          },
          "metadata": {},
          "execution_count": 1
        }
      ],
      "source": [
        "import cv2\n",
        "import numpy as np\n",
        "\n",
        "# Load a noisy image\n",
        "image = cv2.imread('noisy_image.jpg', cv2.IMREAD_GRAYSCALE)\n",
        "\n",
        "# Apply Gaussian filter\n",
        "sigma = 1.5  # Standard deviation for Gaussian kernel\n",
        "gaussian_denoised = cv2.GaussianBlur(image, (5, 5), sigma)\n",
        "\n",
        "# Save or display the result\n",
        "cv2.imwrite('gaussian_denoised.jpg', gaussian_denoised)\n"
      ]
    },
    {
      "cell_type": "markdown",
      "source": [
        "## Median Filter"
      ],
      "metadata": {
        "id": "DWJ990Xw_J1m"
      }
    },
    {
      "cell_type": "code",
      "source": [
        "# Apply Median filter\n",
        "kernel_size = 3  # Size of the neighborhood\n",
        "median_denoised = cv2.medianBlur(image, kernel_size)\n",
        "\n",
        "# Save or display the result\n",
        "cv2.imwrite('median_denoised.jpg', median_denoised)"
      ],
      "metadata": {
        "colab": {
          "base_uri": "https://localhost:8080/"
        },
        "id": "Tl_3RkO-_F1c",
        "outputId": "5ab51bb9-59af-4d09-ca3e-03a96a6e7fe0"
      },
      "execution_count": null,
      "outputs": [
        {
          "output_type": "execute_result",
          "data": {
            "text/plain": [
              "True"
            ]
          },
          "metadata": {},
          "execution_count": 2
        }
      ]
    },
    {
      "cell_type": "markdown",
      "source": [
        "## Non-Local Means (NLM)  "
      ],
      "metadata": {
        "id": "FrVc2LEq_NaB"
      }
    },
    {
      "cell_type": "code",
      "source": [
        "# Apply Non-Local Means denoising\n",
        "nlm_denoised = cv2.fastNlMeansDenoising(image, h=10, templateWindowSize=7, searchWindowSize=21)\n",
        "\n",
        "# Save or display the result\n",
        "cv2.imwrite('nlm_denoised.jpg', nlm_denoised)"
      ],
      "metadata": {
        "colab": {
          "base_uri": "https://localhost:8080/"
        },
        "id": "1J0BgNC8_QsT",
        "outputId": "f0ffbb07-fa9d-49d3-eb63-5c728ea6da9d"
      },
      "execution_count": null,
      "outputs": [
        {
          "output_type": "execute_result",
          "data": {
            "text/plain": [
              "True"
            ]
          },
          "metadata": {},
          "execution_count": 3
        }
      ]
    },
    {
      "cell_type": "markdown",
      "source": [
        "## Convolutional Neural Networks (CNNs)"
      ],
      "metadata": {
        "id": "vkMXRYSQ_YKh"
      }
    },
    {
      "cell_type": "code",
      "source": [
        "import tensorflow as tf\n",
        "from tensorflow.keras import layers, Model\n",
        "\n",
        "def dncnn():\n",
        "    inputs = layers.Input(shape=(None, None, 1))\n",
        "\n",
        "    # Initial convolutional layer\n",
        "    x = layers.Conv2D(64, kernel_size=(3, 3), strides=(1, 1), padding='same')(inputs)\n",
        "    x = layers.ReLU()(x)\n",
        "\n",
        "    # Middle convolutional layers\n",
        "    for _ in range(15):\n",
        "        x = layers.Conv2D(64, kernel_size=(3, 3), strides=(1, 1), padding='same')(x)\n",
        "        x = layers.BatchNormalization()(x)\n",
        "        x = layers.ReLU()(x)\n",
        "\n",
        "    # Final convolutional layer\n",
        "    outputs = layers.Conv2D(1, kernel_size=(3, 3), strides=(1, 1), padding='same')(x)\n",
        "\n",
        "    model = Model(inputs, outputs)\n",
        "    return model\n",
        "\n",
        "import cv2\n",
        "import numpy as np\n",
        "\n",
        "# Load the noisy image\n",
        "image = cv2.imread('noisy_image.jpg', cv2.IMREAD_GRAYSCALE)\n",
        "image = image.astype('float32') / 255.0\n",
        "image = np.expand_dims(image, axis=0)\n",
        "image = np.expand_dims(image, axis=-1)\n",
        "\n",
        "# Create the DnCNN model\n",
        "model = dncnn()\n",
        "\n",
        "\n",
        "# Denoise the image using the model\n",
        "denoised_image = model.predict(image)\n",
        "denoised_image = np.squeeze(denoised_image) * 255.0\n",
        "denoised_image = denoised_image.astype('uint8')\n",
        "\n",
        "# Save or display the result\n",
        "cv2.imwrite('dncnn_denoised.jpg', denoised_image)"
      ],
      "metadata": {
        "colab": {
          "base_uri": "https://localhost:8080/"
        },
        "id": "wKU6n4rD_ZCW",
        "outputId": "5c8dd038-aaa1-4c97-a121-06ab0dbba1c1"
      },
      "execution_count": null,
      "outputs": [
        {
          "output_type": "stream",
          "name": "stdout",
          "text": [
            "1/1 [==============================] - 2s 2s/step\n"
          ]
        },
        {
          "output_type": "execute_result",
          "data": {
            "text/plain": [
              "True"
            ]
          },
          "metadata": {},
          "execution_count": 4
        }
      ]
    },
    {
      "cell_type": "markdown",
      "source": [
        "## Generative Adversarial Networks (GANs)\n"
      ],
      "metadata": {
        "id": "kpdNqAWF_b5j"
      }
    },
    {
      "cell_type": "code",
      "source": [
        "import cv2\n",
        "import numpy as np\n",
        "import requests\n",
        "from io import BytesIO\n",
        "from PIL import Image\n",
        "import tensorflow as tf\n",
        "\n",
        "# Define the GAN-based denoiser model\n",
        "def build_denoiser_model():\n",
        "    # Define the generator model (denoiser)\n",
        "    generator = tf.keras.models.Sequential([\n",
        "        # Define layers of the generator (e.g., convolutional layers, activation functions)\n",
        "        # Example:\n",
        "        tf.keras.layers.Conv2D(64, (3, 3), strides=(1, 1), padding='same', activation='relu', input_shape=(None, None, 1)),\n",
        "        tf.keras.layers.Conv2D(64, (3, 3), strides=(1, 1), padding='same', activation='relu'),\n",
        "        tf.keras.layers.Conv2D(1, (3, 3), strides=(1, 1), padding='same', activation='sigmoid')\n",
        "    ])\n",
        "\n",
        "    return generator\n",
        "\n",
        "# Function to denoise image using the GAN model\n",
        "def gan_denoise_image(image_url, denoiser_model):\n",
        "    # Load the noisy image from URL\n",
        "    response = requests.get(image_url)\n",
        "    noisy_image = Image.open(BytesIO(response.content))\n",
        "    noisy_image = np.array(noisy_image)\n",
        "    noisy_image = np.expand_dims(noisy_image, axis=-1) / 255.0\n",
        "\n",
        "    # Perform denoising using the GAN model\n",
        "    denoised_image = denoiser_model.predict(np.expand_dims(noisy_image, axis=0))\n",
        "    denoised_image = np.squeeze(denoised_image) * 255.0\n",
        "    denoised_image = denoised_image.astype(np.uint8)\n",
        "\n",
        "    return denoised_image\n",
        "\n",
        "# URL of the noisy image\n",
        "image_url = 'https://raw.githubusercontent.com/cszn/DnCNN/master/testsets/Set12/01.png'\n",
        "\n",
        "# Build the denoiser model\n",
        "denoiser_model = build_denoiser_model()\n",
        "\n",
        "# Denoise the image using the GAN model\n",
        "denoised_image = gan_denoise_image(image_url, denoiser_model)\n",
        "\n",
        "# Save or display the denoised image\n",
        "cv2.imwrite('denoised_image.jpg', denoised_image)"
      ],
      "metadata": {
        "colab": {
          "base_uri": "https://localhost:8080/"
        },
        "id": "Piqe2sfE_edm",
        "outputId": "7e086692-b7d6-42a3-a4b9-ea003ce35d8c"
      },
      "execution_count": null,
      "outputs": [
        {
          "output_type": "stream",
          "name": "stdout",
          "text": [
            "1/1 [==============================] - 0s 166ms/step\n"
          ]
        },
        {
          "output_type": "execute_result",
          "data": {
            "text/plain": [
              "True"
            ]
          },
          "metadata": {},
          "execution_count": 5
        }
      ]
    },
    {
      "cell_type": "code",
      "source": [],
      "metadata": {
        "id": "Rmi166AZ_nMZ"
      },
      "execution_count": null,
      "outputs": []
    }
  ]
}